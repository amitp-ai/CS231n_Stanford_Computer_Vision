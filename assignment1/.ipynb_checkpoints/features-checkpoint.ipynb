{
 "cells": [
  {
   "cell_type": "markdown",
   "metadata": {},
   "source": [
    "# Image features exercise\n",
    "*Complete and hand in this completed worksheet (including its outputs and any supporting code outside of the worksheet) with your assignment submission. For more details see the [assignments page](http://vision.stanford.edu/teaching/cs231n/assignments.html) on the course website.*\n",
    "\n",
    "We have seen that we can achieve reasonable performance on an image classification task by training a linear classifier on the pixels of the input image. In this exercise we will show that we can improve our classification performance by training linear classifiers not on raw pixels but on features that are computed from the raw pixels.\n",
    "\n",
    "All of your work for this exercise will be done in this notebook."
   ]
  },
  {
   "cell_type": "code",
   "execution_count": 1,
   "metadata": {
    "collapsed": false
   },
   "outputs": [],
   "source": [
    "import random\n",
    "import numpy as np\n",
    "from cs231n.data_utils import load_CIFAR10\n",
    "import matplotlib.pyplot as plt\n",
    "%matplotlib inline\n",
    "plt.rcParams['figure.figsize'] = (10.0, 8.0) # set default size of plots\n",
    "plt.rcParams['image.interpolation'] = 'nearest'\n",
    "plt.rcParams['image.cmap'] = 'gray'\n",
    "\n",
    "# for auto-reloading extenrnal modules\n",
    "# see http://stackoverflow.com/questions/1907993/autoreload-of-modules-in-ipython\n",
    "%load_ext autoreload\n",
    "%autoreload 2"
   ]
  },
  {
   "cell_type": "markdown",
   "metadata": {},
   "source": [
    "## Load data\n",
    "Similar to previous exercises, we will load CIFAR-10 data from disk."
   ]
  },
  {
   "cell_type": "code",
   "execution_count": 2,
   "metadata": {
    "collapsed": false
   },
   "outputs": [],
   "source": [
    "from cs231n.features import color_histogram_hsv, hog_feature\n",
    "\n",
    "def get_CIFAR10_data(num_training=49000, num_validation=1000, num_test=1000):\n",
    "  # Load the raw CIFAR-10 data\n",
    "  cifar10_dir = 'cs231n/datasets/cifar-10-batches-py'\n",
    "  X_train, y_train, X_test, y_test = load_CIFAR10(cifar10_dir)\n",
    "  \n",
    "  # Subsample the data\n",
    "  mask = range(num_training, num_training + num_validation)\n",
    "  X_val = X_train[mask]\n",
    "  y_val = y_train[mask]\n",
    "  mask = range(num_training)\n",
    "  X_train = X_train[mask]\n",
    "  y_train = y_train[mask]\n",
    "  mask = range(num_test)\n",
    "  X_test = X_test[mask]\n",
    "  y_test = y_test[mask]\n",
    "\n",
    "  return X_train, y_train, X_val, y_val, X_test, y_test\n",
    "\n",
    "X_train, y_train, X_val, y_val, X_test, y_test = get_CIFAR10_data()"
   ]
  },
  {
   "cell_type": "markdown",
   "metadata": {},
   "source": [
    "## Extract Features\n",
    "For each image we will compute a Histogram of Oriented\n",
    "Gradients (HOG) as well as a color histogram using the hue channel in HSV\n",
    "color space. We form our final feature vector for each image by concatenating\n",
    "the HOG and color histogram feature vectors.\n",
    "\n",
    "Roughly speaking, HOG should capture the texture of the image while ignoring\n",
    "color information, and the color histogram represents the color of the input\n",
    "image while ignoring texture. As a result, we expect that using both together\n",
    "ought to work better than using either alone. Verifying this assumption would\n",
    "be a good thing to try for the bonus section.\n",
    "\n",
    "The `hog_feature` and `color_histogram_hsv` functions both operate on a single\n",
    "image and return a feature vector for that image. The extract_features\n",
    "function takes a set of images and a list of feature functions and evaluates\n",
    "each feature function on each image, storing the results in a matrix where\n",
    "each column is the concatenation of all feature vectors for a single image."
   ]
  },
  {
   "cell_type": "code",
   "execution_count": 3,
   "metadata": {
    "collapsed": false
   },
   "outputs": [
    {
     "name": "stderr",
     "output_type": "stream",
     "text": [
      "/home/amit/Desktop/AmitProjects/SDCND/CS231n/CS231n_Assignments/assignment1/cs231n/features.py:118: VisibleDeprecationWarning: using a non-integer number instead of an integer will result in an error in the future\n",
      "  orientation_histogram[:,:,i] = uniform_filter(temp_mag, size=(cx, cy))[cx/2::cx, cy/2::cy].T\n"
     ]
    },
    {
     "name": "stdout",
     "output_type": "stream",
     "text": [
      "Done extracting features for 1000 / 49000 images\n",
      "Done extracting features for 2000 / 49000 images\n",
      "Done extracting features for 3000 / 49000 images\n",
      "Done extracting features for 4000 / 49000 images\n",
      "Done extracting features for 5000 / 49000 images\n",
      "Done extracting features for 6000 / 49000 images\n",
      "Done extracting features for 7000 / 49000 images\n",
      "Done extracting features for 8000 / 49000 images\n",
      "Done extracting features for 9000 / 49000 images\n",
      "Done extracting features for 10000 / 49000 images\n",
      "Done extracting features for 11000 / 49000 images\n",
      "Done extracting features for 12000 / 49000 images\n",
      "Done extracting features for 13000 / 49000 images\n",
      "Done extracting features for 14000 / 49000 images\n",
      "Done extracting features for 15000 / 49000 images\n",
      "Done extracting features for 16000 / 49000 images\n",
      "Done extracting features for 17000 / 49000 images\n",
      "Done extracting features for 18000 / 49000 images\n",
      "Done extracting features for 19000 / 49000 images\n",
      "Done extracting features for 20000 / 49000 images\n",
      "Done extracting features for 21000 / 49000 images\n",
      "Done extracting features for 22000 / 49000 images\n",
      "Done extracting features for 23000 / 49000 images\n",
      "Done extracting features for 24000 / 49000 images\n",
      "Done extracting features for 25000 / 49000 images\n",
      "Done extracting features for 26000 / 49000 images\n",
      "Done extracting features for 27000 / 49000 images\n",
      "Done extracting features for 28000 / 49000 images\n",
      "Done extracting features for 29000 / 49000 images\n",
      "Done extracting features for 30000 / 49000 images\n",
      "Done extracting features for 31000 / 49000 images\n",
      "Done extracting features for 32000 / 49000 images\n",
      "Done extracting features for 33000 / 49000 images\n",
      "Done extracting features for 34000 / 49000 images\n",
      "Done extracting features for 35000 / 49000 images\n",
      "Done extracting features for 36000 / 49000 images\n",
      "Done extracting features for 37000 / 49000 images\n",
      "Done extracting features for 38000 / 49000 images\n",
      "Done extracting features for 39000 / 49000 images\n",
      "Done extracting features for 40000 / 49000 images\n",
      "Done extracting features for 41000 / 49000 images\n",
      "Done extracting features for 42000 / 49000 images\n",
      "Done extracting features for 43000 / 49000 images\n",
      "Done extracting features for 44000 / 49000 images\n",
      "Done extracting features for 45000 / 49000 images\n",
      "Done extracting features for 46000 / 49000 images\n",
      "Done extracting features for 47000 / 49000 images\n",
      "Done extracting features for 48000 / 49000 images\n"
     ]
    }
   ],
   "source": [
    "from cs231n.features import *\n",
    "\n",
    "num_color_bins = 10 # Number of bins in the color histogram\n",
    "feature_fns = [hog_feature, lambda img: color_histogram_hsv(img, nbin=num_color_bins)]\n",
    "X_train_feats = extract_features(X_train, feature_fns, verbose=True)\n",
    "X_val_feats = extract_features(X_val, feature_fns)\n",
    "X_test_feats = extract_features(X_test, feature_fns)\n",
    "\n",
    "# Preprocessing: Subtract the mean feature\n",
    "mean_feat = np.mean(X_train_feats, axis=0, keepdims=True)\n",
    "X_train_feats -= mean_feat\n",
    "X_val_feats -= mean_feat\n",
    "X_test_feats -= mean_feat\n",
    "\n",
    "# Preprocessing: Divide by standard deviation. This ensures that each feature\n",
    "# has roughly the same scale.\n",
    "std_feat = np.std(X_train_feats, axis=0, keepdims=True)\n",
    "X_train_feats /= std_feat\n",
    "X_val_feats /= std_feat\n",
    "X_test_feats /= std_feat\n",
    "\n",
    "# Preprocessing: Add a bias dimension\n",
    "X_train_feats = np.hstack([X_train_feats, np.ones((X_train_feats.shape[0], 1))])\n",
    "X_val_feats = np.hstack([X_val_feats, np.ones((X_val_feats.shape[0], 1))])\n",
    "X_test_feats = np.hstack([X_test_feats, np.ones((X_test_feats.shape[0], 1))])"
   ]
  },
  {
   "cell_type": "markdown",
   "metadata": {},
   "source": [
    "## Train SVM on features\n",
    "Using the multiclass SVM code developed earlier in the assignment, train SVMs on top of the features extracted above; this should achieve better results than training SVMs directly on top of raw pixels."
   ]
  },
  {
   "cell_type": "code",
   "execution_count": null,
   "metadata": {
    "collapsed": false
   },
   "outputs": [],
   "source": [
    "X_train_feats.shape"
   ]
  },
  {
   "cell_type": "code",
   "execution_count": null,
   "metadata": {
    "collapsed": false
   },
   "outputs": [],
   "source": [
    "# Use the validation set to tune the learning rate and regularization strength\n",
    "\n",
    "from cs231n.classifiers.linear_classifier import LinearSVM\n",
    "\n",
    "################################################################################\n",
    "# TODO:                                                                        #\n",
    "# Use the validation set to set the learning rate and regularization strength. #\n",
    "# This should be identical to the validation that you did for the SVM; save    #\n",
    "# the best trained classifer in best_svm. You might also want to play          #\n",
    "# with different numbers of bins in the color histogram. If you are careful    #\n",
    "# you should be able to get accuracy of near 0.44 on the validation set.       #\n",
    "################################################################################\n",
    "\n",
    "# Use the validation set to tune hyperparameters (regularization strength and\n",
    "# learning rate). You should experiment with different ranges for the learning\n",
    "# rates and regularization strengths; if you are careful you should be able to\n",
    "# get a classification accuracy of about 0.4 on the validation set.\n",
    "learning_rates = [1e-7, 1e-5] #[1e-9, 1e-8, 1e-7]\n",
    "regularization_strengths = [1e2, 1e5] #[1e5, 1e6, 1e7]\n",
    "\n",
    "import math\n",
    "#math.log10(1e-5/1e-7)/math.log10(3)\n",
    "\n",
    "list_lr = []\n",
    "num_lr=3\n",
    "start_lr = learning_rates[0]\n",
    "stop_lr = learning_rates[1]\n",
    "base_lr = 10**(math.log10(stop_lr/start_lr)/num_lr)\n",
    "range_lr = range(0,num_lr+1,1)\n",
    "for i in range_lr:\n",
    "    list_lr.append(start_lr*base_lr**i)\n",
    "    #print(start_lr*base_lr**i)\n",
    "    \n",
    "list_reg = []\n",
    "num_reg=3\n",
    "start_reg = regularization_strengths[0]\n",
    "stop_reg = regularization_strengths[1]\n",
    "base_reg = 10**(math.log10(stop_reg/start_reg)/num_reg)\n",
    "range_reg = range(0,num_reg+1,1)\n",
    "for i in range_reg:\n",
    "    list_reg.append(start_reg*base_reg**i)\n",
    "    #print(start_reg*base_reg**i)\n",
    "\n",
    "print(list_lr)\n",
    "print()\n",
    "print(list_reg)\n",
    "\n",
    "\n",
    "# results is dictionary mapping tuples of the form\n",
    "# (learning_rate, regularization_strength) to tuples of the form\n",
    "# (training_accuracy, validation_accuracy). The accuracy is simply the fraction\n",
    "# of data points that are correctly classified.\n",
    "results = {}\n",
    "best_val = -1   # The highest validation accuracy that we have seen so far.\n",
    "best_svm = None # The LinearSVM object that achieved the highest validation rate."
   ]
  },
  {
   "cell_type": "code",
   "execution_count": null,
   "metadata": {
    "collapsed": false
   },
   "outputs": [],
   "source": [
    "################################################################################\n",
    "# TODO:                                                                        #\n",
    "# Write code that chooses the best hyperparameters by tuning on the validation #\n",
    "# set. For each combination of hyperparameters, train a linear SVM on the      #\n",
    "# training set, compute its accuracy on the training and validation sets, and  #\n",
    "# store these numbers in the results dictionary. In addition, store the best   #\n",
    "# validation accuracy in best_val and the LinearSVM object that achieves this  #\n",
    "# accuracy in best_svm.                                                        #\n",
    "#                                                                              #\n",
    "# Hint: You should use a small value for num_iters as you develop your         #\n",
    "# validation code so that the SVMs don't take much time to train; once you are #\n",
    "# confident that your validation code works, you should rerun the validation   #\n",
    "# code with a larger value for num_iters.                                      #\n",
    "################################################################################\n",
    "for ii in list_lr:\n",
    "    for jj in list_reg:\n",
    "        svm = LinearSVM() #need to initialize this every time\n",
    "        loss_hist = svm.train(X_train_feats, y_train, learning_rate=ii, reg=jj,\n",
    "                          num_iters=600, verbose=False)\n",
    "        y_train_pred = svm.predict(X_train_feats)\n",
    "        y_train_acc = np.mean(y_train == y_train_pred)\n",
    "        y_val_pred = svm.predict(X_val_feats)\n",
    "        y_val_acc = np.mean(y_val == y_val_pred)\n",
    "\n",
    "        results[(ii,jj)] = (y_train_acc,y_val_acc)\n",
    "    \n",
    "################################################################################\n",
    "#                              END OF YOUR CODE                                #\n",
    "################################################################################\n",
    "    \n",
    "# Print out results.\n",
    "best_hyper = [0,0] #initialize\n",
    "for lr, reg in sorted(results):\n",
    "    train_accuracy, val_accuracy = results[(lr, reg)]\n",
    "    if val_accuracy > best_val: \n",
    "        best_val=val_accuracy\n",
    "        best_hyper[0] = lr\n",
    "        best_hyper[1] = reg\n",
    "    print('lr %e reg %e train accuracy: %f val accuracy: %f' % (\n",
    "                lr, reg, train_accuracy, val_accuracy))\n",
    "    \n",
    "print('best validation accuracy achieved during cross-validation: %f' % best_val)"
   ]
  },
  {
   "cell_type": "code",
   "execution_count": null,
   "metadata": {
    "collapsed": false
   },
   "outputs": [],
   "source": [
    "#print(results)\n",
    "print(best_hyper)\n",
    "\n",
    "best_svm = LinearSVM() #need to initialize this every time\n",
    "loss_hist = best_svm.train(X_train_feats, y_train, learning_rate=best_hyper[0], reg=best_hyper[1], \n",
    "                           num_iters=1500, verbose=True)\n",
    "y_train_pred = best_svm.predict(X_train_feats)\n",
    "y_train_acc = np.mean(y_train == y_train_pred)\n",
    "y_val_pred = best_svm.predict(X_val_feats)\n",
    "y_val_acc = np.mean(y_val == y_val_pred)\n",
    "print(y_val_acc)"
   ]
  },
  {
   "cell_type": "code",
   "execution_count": null,
   "metadata": {
    "collapsed": false
   },
   "outputs": [],
   "source": [
    "# Evaluate your trained SVM on the test set\n",
    "y_test_pred = best_svm.predict(X_test_feats)\n",
    "test_accuracy = np.mean(y_test == y_test_pred)\n",
    "print(test_accuracy)"
   ]
  },
  {
   "cell_type": "code",
   "execution_count": null,
   "metadata": {
    "collapsed": false
   },
   "outputs": [],
   "source": [
    "# An important way to gain intuition about how an algorithm works is to\n",
    "# visualize the mistakes that it makes. In this visualization, we show examples\n",
    "# of images that are misclassified by our current system. The first column\n",
    "# shows images that our system labeled as \"plane\" but whose true label is\n",
    "# something other than \"plane\".\n",
    "\n",
    "examples_per_class = 8\n",
    "classes = ['plane', 'car', 'bird', 'cat', 'deer', 'dog', 'frog', 'horse', 'ship', 'truck']\n",
    "for cls, cls_name in enumerate(classes):\n",
    "    idxs = np.where((y_test != cls) & (y_test_pred == cls))[0]\n",
    "    idxs = np.random.choice(idxs, examples_per_class, replace=False)\n",
    "    for i, idx in enumerate(idxs):\n",
    "        plt.subplot(examples_per_class, len(classes), i * len(classes) + cls + 1)\n",
    "        plt.imshow(X_test[idx].astype('uint8'))\n",
    "        plt.axis('off')\n",
    "        if i == 0:\n",
    "            plt.title(cls_name)\n",
    "plt.show()"
   ]
  },
  {
   "cell_type": "markdown",
   "metadata": {},
   "source": [
    "### Inline question 1:\n",
    "Describe the misclassification results that you see. Do they make sense?"
   ]
  },
  {
   "cell_type": "markdown",
   "metadata": {},
   "source": [
    "## Neural Network on image features\n",
    "Earlier in this assigment we saw that training a two-layer neural network on raw pixels achieved better classification performance than linear classifiers on raw pixels. In this notebook we have seen that linear classifiers on image features outperform linear classifiers on raw pixels. \n",
    "\n",
    "For completeness, we should also try training a neural network on image features. This approach should outperform all previous approaches: you should easily be able to achieve over 55% classification accuracy on the test set; our best model achieves about 60% classification accuracy."
   ]
  },
  {
   "cell_type": "code",
   "execution_count": 25,
   "metadata": {
    "collapsed": false
   },
   "outputs": [
    {
     "name": "stdout",
     "output_type": "stream",
     "text": [
      "(49000, 32, 32, 3)\n",
      "(49000, 155)\n"
     ]
    }
   ],
   "source": [
    "print(X_train.shape)\n",
    "print(X_train_feats.shape)"
   ]
  },
  {
   "cell_type": "code",
   "execution_count": 42,
   "metadata": {
    "collapsed": false
   },
   "outputs": [
    {
     "name": "stdout",
     "output_type": "stream",
     "text": [
      "[0.1, 0.316227766016838, 1.0000000000000002]\n",
      "\n",
      "[0.001, 0.022360679774997894, 0.4999999999999999]\n"
     ]
    }
   ],
   "source": [
    "################################################################################\n",
    "# TODO: Train a two-layer neural network on image features. You may want to    #\n",
    "# cross-validate various parameters as in previous sections. Store your best   #\n",
    "# model in the best_net variable.                                              #\n",
    "################################################################################\n",
    "# Use the validation set to tune hyperparameters (regularization strength and\n",
    "# learning rate). You should experiment with different ranges for the learning\n",
    "# rates and regularization strengths; if you are careful you should be able to\n",
    "# get a classification accuracy of about 0.4 on the validation set.\n",
    "learning_rates = [0.1, 1]\n",
    "regularization_strengths = [0.001, 0.5]\n",
    "\n",
    "import math\n",
    "#math.log10(1e-5/1e-7)/math.log10(3)\n",
    "\n",
    "list_lr = []\n",
    "num_lr=2\n",
    "start_lr = learning_rates[0]\n",
    "stop_lr = learning_rates[1]\n",
    "base_lr = 10**(math.log10(stop_lr/start_lr)/num_lr)\n",
    "range_lr = range(0,num_lr+1,1)\n",
    "for i in range_lr:\n",
    "    list_lr.append(start_lr*base_lr**i)\n",
    "    #print(start_lr*base_lr**i)\n",
    "    \n",
    "list_reg = []\n",
    "num_reg=2\n",
    "start_reg = regularization_strengths[0]\n",
    "stop_reg = regularization_strengths[1]\n",
    "base_reg = 10**(math.log10(stop_reg/start_reg)/num_reg)\n",
    "range_reg = range(0,num_reg+1,1)\n",
    "for i in range_reg:\n",
    "    list_reg.append(start_reg*base_reg**i)\n",
    "    #print(start_reg*base_reg**i)\n",
    "\n",
    "print(list_lr)\n",
    "print()\n",
    "print(list_reg)\n",
    "################################################################################\n",
    "#                              END OF YOUR CODE                                #\n",
    "################################################################################"
   ]
  },
  {
   "cell_type": "code",
   "execution_count": 43,
   "metadata": {
    "collapsed": false
   },
   "outputs": [
    {
     "name": "stdout",
     "output_type": "stream",
     "text": [
      "lr 0.100000 reg 0.001000: Validation accuracy 0.517000\n",
      "lr 0.100000 reg 0.022361: Validation accuracy 0.501000\n",
      "lr 0.100000 reg 0.500000: Validation accuracy 0.079000\n",
      "lr 0.316228 reg 0.001000: Validation accuracy 0.567000\n",
      "lr 0.316228 reg 0.022361: Validation accuracy 0.497000\n",
      "lr 0.316228 reg 0.500000: Validation accuracy 0.079000\n",
      "lr 1.000000 reg 0.001000: Validation accuracy 0.563000\n",
      "lr 1.000000 reg 0.022361: Validation accuracy 0.510000\n",
      "lr 1.000000 reg 0.500000: Validation accuracy 0.143000\n",
      "lr 1.000000e-01 reg 1.000000e-03 val accuracy: 0.517000\n",
      "lr 1.000000e-01 reg 2.236068e-02 val accuracy: 0.501000\n",
      "lr 1.000000e-01 reg 5.000000e-01 val accuracy: 0.079000\n",
      "lr 3.162278e-01 reg 1.000000e-03 val accuracy: 0.567000\n",
      "lr 3.162278e-01 reg 2.236068e-02 val accuracy: 0.497000\n",
      "lr 3.162278e-01 reg 5.000000e-01 val accuracy: 0.079000\n",
      "lr 1.000000e+00 reg 1.000000e-03 val accuracy: 0.563000\n",
      "lr 1.000000e+00 reg 2.236068e-02 val accuracy: 0.510000\n",
      "lr 1.000000e+00 reg 5.000000e-01 val accuracy: 0.143000\n",
      "best validation accuracy achieved during cross-validation: 0.567000\n"
     ]
    }
   ],
   "source": [
    "#################################################################################\n",
    "# TODO: Tune hyperparameters using the validation set. Store your best trained  #\n",
    "# model in best_net.                                                            #\n",
    "#                                                                               #\n",
    "# To help debug your network, it may help to use visualizations similar to the  #\n",
    "# ones we used above; these visualizations will have significant qualitative    #\n",
    "# differences from the ones we saw above for the poorly tuned network.          #\n",
    "#                                                                               #\n",
    "# Tweaking hyperparameters by hand can be fun, but you might find it useful to  #\n",
    "# write code to sweep through possible combinations of hyperparameters          #\n",
    "# automatically like we did on the previous exercises.                          #\n",
    "#################################################################################\n",
    "from cs231n.classifiers.neural_net import TwoLayerNet\n",
    "\n",
    "input_dim = X_train_feats.shape[1]\n",
    "hidden_dim = 500\n",
    "num_classes = 10\n",
    "\n",
    "results = {}\n",
    "best_val = -1\n",
    "best_net = None # store the best model into this \n",
    "\n",
    "net = TwoLayerNet(input_dim, hidden_dim, num_classes)\n",
    "\n",
    "################################################################################\n",
    "for lr in list_lr:\n",
    "    for reg in list_reg:\n",
    "        \n",
    "        net = TwoLayerNet(input_dim, hidden_dim, num_classes)\n",
    "        # Train the network\n",
    "        stats = net.train(X_train_feats, y_train, X_val_feats, y_val,\n",
    "                    num_iters=1000, batch_size=200,\n",
    "                    learning_rate=lr, learning_rate_decay=0.95,\n",
    "                    reg=reg, verbose=False)\n",
    "\n",
    "        # Predict on the validation set\n",
    "        y_val_acc = (net.predict(X_val_feats) == y_val).mean()\n",
    "        print('lr %f reg %f: Validation accuracy %f' % (lr,reg,y_val_acc))\n",
    "\n",
    "        results[(lr,reg)] = y_val_acc\n",
    "    \n",
    "################################################################################\n",
    "#                              END OF YOUR CODE                                #\n",
    "################################################################################\n",
    "    \n",
    "# Print out results.\n",
    "best_hyper = [0,0] #initialize\n",
    "for lr, reg in sorted(results):\n",
    "    val_accuracy = results[(lr, reg)]\n",
    "    if val_accuracy > best_val: \n",
    "        best_val=val_accuracy\n",
    "        best_hyper[0] = lr\n",
    "        best_hyper[1] = reg\n",
    "    print('lr %e reg %e val accuracy: %f' % (\n",
    "                lr, reg, val_accuracy))\n",
    "    \n",
    "print('best validation accuracy achieved during cross-validation: %f' % best_val)"
   ]
  },
  {
   "cell_type": "code",
   "execution_count": 44,
   "metadata": {
    "collapsed": false
   },
   "outputs": [
    {
     "name": "stdout",
     "output_type": "stream",
     "text": [
      "[0.316227766016838, 0.001]\n",
      "iteration 0 / 3000: loss 2.302585\n",
      "iteration 100 / 3000: loss 1.799641\n",
      "iteration 200 / 3000: loss 1.517108\n",
      "iteration 300 / 3000: loss 1.378338\n",
      "iteration 400 / 3000: loss 1.382066\n",
      "iteration 500 / 3000: loss 1.401007\n",
      "iteration 600 / 3000: loss 1.250727\n",
      "iteration 700 / 3000: loss 1.331833\n",
      "iteration 800 / 3000: loss 1.263542\n",
      "iteration 900 / 3000: loss 1.248961\n",
      "iteration 1000 / 3000: loss 1.206504\n",
      "iteration 1100 / 3000: loss 1.056115\n",
      "iteration 1200 / 3000: loss 1.101764\n",
      "iteration 1300 / 3000: loss 1.128171\n",
      "iteration 1400 / 3000: loss 1.064441\n",
      "iteration 1500 / 3000: loss 1.107104\n",
      "iteration 1600 / 3000: loss 1.033494\n",
      "iteration 1700 / 3000: loss 1.061394\n",
      "iteration 1800 / 3000: loss 1.045383\n",
      "iteration 1900 / 3000: loss 1.066272\n",
      "iteration 2000 / 3000: loss 1.013736\n",
      "iteration 2100 / 3000: loss 1.008400\n",
      "iteration 2200 / 3000: loss 1.183624\n",
      "iteration 2300 / 3000: loss 1.020897\n",
      "iteration 2400 / 3000: loss 0.998006\n",
      "iteration 2500 / 3000: loss 0.968503\n",
      "iteration 2600 / 3000: loss 0.967090\n",
      "iteration 2700 / 3000: loss 0.972094\n",
      "iteration 2800 / 3000: loss 0.963000\n",
      "iteration 2900 / 3000: loss 0.866066\n",
      "Validation accuracy 0.594000\n"
     ]
    }
   ],
   "source": [
    "print(best_hyper)\n",
    "lr = best_hyper[0]\n",
    "reg = best_hyper[1]\n",
    "\n",
    "best_net = TwoLayerNet(input_dim, hidden_dim, num_classes)\n",
    "# Train the network\n",
    "stats = best_net.train(X_train_feats, y_train, X_val_feats, y_val,\n",
    "                  num_iters=3000, batch_size=200,\n",
    "                  learning_rate=lr, learning_rate_decay=0.95,\n",
    "                  reg=reg, verbose=True)\n",
    "\n",
    "# Predict on the validation set\n",
    "y_val_acc = (best_net.predict(X_val_feats) == y_val).mean()\n",
    "print('Validation accuracy %f' % (y_val_acc))"
   ]
  },
  {
   "cell_type": "code",
   "execution_count": 45,
   "metadata": {
    "collapsed": false
   },
   "outputs": [
    {
     "data": {
      "image/png": "[encoded data removed]",
      "text/plain": [
       "<matplotlib.figure.Figure at 0x7fd0cf2de470>"
      ]
     },
     "metadata": {},
     "output_type": "display_data"
    }
   ],
   "source": [
    "# Plot the loss function and train / validation accuracies\n",
    "plt.subplot(2, 1, 1)\n",
    "plt.plot(stats['loss_history'])\n",
    "plt.title('Loss history')\n",
    "plt.xlabel('Iteration')\n",
    "plt.ylabel('Loss')\n",
    "\n",
    "plt.subplot(2, 1, 2)\n",
    "plt.plot(stats['train_acc_history'], label='train')\n",
    "plt.plot(stats['val_acc_history'], label='val')\n",
    "plt.title('Classification accuracy history')\n",
    "plt.xlabel('Epoch')\n",
    "plt.ylabel('Clasification accuracy')\n",
    "plt.show()"
   ]
  },
  {
   "cell_type": "code",
   "execution_count": 46,
   "metadata": {
    "collapsed": false
   },
   "outputs": [
    {
     "name": "stdout",
     "output_type": "stream",
     "text": [
      "0.594\n"
     ]
    }
   ],
   "source": [
    "# Run your neural net classifier on the test set. You should be able to\n",
    "# get more than 55% accuracy.\n",
    "\n",
    "test_acc = (best_net.predict(X_test_feats) == y_test).mean()\n",
    "print(test_acc)"
   ]
  },
  {
   "cell_type": "markdown",
   "metadata": {},
   "source": [
    "# Bonus: Design your own features!\n",
    "\n",
    "You have seen that simple image features can improve classification performance. So far we have tried HOG and color histograms, but other types of features may be able to achieve even better classification performance.\n",
    "\n",
    "For bonus points, design and implement a new type of feature and use it for image classification on CIFAR-10. Explain how your feature works and why you expect it to be useful for image classification. Implement it in this notebook, cross-validate any hyperparameters, and compare its performance to the HOG + Color histogram baseline."
   ]
  },
  {
   "cell_type": "markdown",
   "metadata": {},
   "source": [
    "# Bonus: Do something extra!\n",
    "Use the material and code we have presented in this assignment to do something interesting. Was there another question we should have asked? Did any cool ideas pop into your head as you were working on the assignment? This is your chance to show off!"
   ]
  }
 ],
 "metadata": {
  "anaconda-cloud": {},
  "kernelspec": {
   "display_name": "Python [conda env:AmitSDCND]",
   "language": "python",
   "name": "conda-env-AmitSDCND-py"
  },
  "language_info": {
   "codemirror_mode": {
    "name": "ipython",
    "version": 3
   },
   "file_extension": ".py",
   "mimetype": "text/x-python",
   "name": "python",
   "nbconvert_exporter": "python",
   "pygments_lexer": "ipython3",
   "version": "3.5.2"
  }
 },
 "nbformat": 4,
 "nbformat_minor": 0
}
