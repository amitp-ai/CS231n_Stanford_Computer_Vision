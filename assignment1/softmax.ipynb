{
 "cells": [
  {
   "cell_type": "markdown",
   "metadata": {},
   "source": [
    "# Softmax exercise\n",
    "\n",
    "*Complete and hand in this completed worksheet (including its outputs and any supporting code outside of the worksheet) with your assignment submission. For more details see the [assignments page](http://vision.stanford.edu/teaching/cs231n/assignments.html) on the course website.*\n",
    "\n",
    "This exercise is analogous to the SVM exercise. You will:\n",
    "\n",
    "- implement a fully-vectorized **loss function** for the Softmax classifier\n",
    "- implement the fully-vectorized expression for its **analytic gradient**\n",
    "- **check your implementation** with numerical gradient\n",
    "- use a validation set to **tune the learning rate and regularization** strength\n",
    "- **optimize** the loss function with **SGD**\n",
    "- **visualize** the final learned weights\n"
   ]
  },
  {
   "cell_type": "code",
   "execution_count": 1,
   "metadata": {
    "collapsed": false
   },
   "outputs": [],
   "source": [
    "import random\n",
    "import numpy as np\n",
    "from cs231n.data_utils import load_CIFAR10\n",
    "import matplotlib.pyplot as plt\n",
    "%matplotlib inline\n",
    "plt.rcParams['figure.figsize'] = (10.0, 8.0) # set default size of plots\n",
    "plt.rcParams['image.interpolation'] = 'nearest'\n",
    "plt.rcParams['image.cmap'] = 'gray'\n",
    "\n",
    "# for auto-reloading extenrnal modules\n",
    "# see http://stackoverflow.com/questions/1907993/autoreload-of-modules-in-ipython\n",
    "%load_ext autoreload\n",
    "%autoreload 2"
   ]
  },
  {
   "cell_type": "code",
   "execution_count": 2,
   "metadata": {
    "collapsed": false
   },
   "outputs": [
    {
     "name": "stdout",
     "output_type": "stream",
     "text": [
      "Train data shape:  (49000, 3073)\n",
      "Train labels shape:  (49000,)\n",
      "Validation data shape:  (1000, 3073)\n",
      "Validation labels shape:  (1000,)\n",
      "Test data shape:  (1000, 3073)\n",
      "Test labels shape:  (1000,)\n",
      "dev data shape:  (500, 3073)\n",
      "dev labels shape:  (500,)\n"
     ]
    }
   ],
   "source": [
    "def get_CIFAR10_data(num_training=49000, num_validation=1000, num_test=1000, num_dev=500):\n",
    "  \"\"\"\n",
    "  Load the CIFAR-10 dataset from disk and perform preprocessing to prepare\n",
    "  it for the linear classifier. These are the same steps as we used for the\n",
    "  SVM, but condensed to a single function.  \n",
    "  \"\"\"\n",
    "  # Load the raw CIFAR-10 data\n",
    "  cifar10_dir = 'cs231n/datasets/cifar-10-batches-py'\n",
    "  X_train, y_train, X_test, y_test = load_CIFAR10(cifar10_dir)\n",
    "  \n",
    "  # subsample the data\n",
    "  mask = range(num_training, num_training + num_validation)\n",
    "  X_val = X_train[mask]\n",
    "  y_val = y_train[mask]\n",
    "  mask = range(num_training)\n",
    "  X_train = X_train[mask]\n",
    "  y_train = y_train[mask]\n",
    "  mask = range(num_test)\n",
    "  X_test = X_test[mask]\n",
    "  y_test = y_test[mask]\n",
    "  mask = np.random.choice(num_training, num_dev, replace=False)\n",
    "  X_dev = X_train[mask]\n",
    "  y_dev = y_train[mask]\n",
    "  \n",
    "  # Preprocessing: reshape the image data into rows\n",
    "  X_train = np.reshape(X_train, (X_train.shape[0], -1))\n",
    "  X_val = np.reshape(X_val, (X_val.shape[0], -1))\n",
    "  X_test = np.reshape(X_test, (X_test.shape[0], -1))\n",
    "  X_dev = np.reshape(X_dev, (X_dev.shape[0], -1))\n",
    "  \n",
    "  # Normalize the data: subtract the mean image\n",
    "  mean_image = np.mean(X_train, axis = 0)\n",
    "  X_train -= mean_image\n",
    "  X_val -= mean_image\n",
    "  X_test -= mean_image\n",
    "  X_dev -= mean_image\n",
    "  \n",
    "  # add bias dimension and transform into columns\n",
    "  X_train = np.hstack([X_train, np.ones((X_train.shape[0], 1))])\n",
    "  X_val = np.hstack([X_val, np.ones((X_val.shape[0], 1))])\n",
    "  X_test = np.hstack([X_test, np.ones((X_test.shape[0], 1))])\n",
    "  X_dev = np.hstack([X_dev, np.ones((X_dev.shape[0], 1))])\n",
    "  \n",
    "  return X_train, y_train, X_val, y_val, X_test, y_test, X_dev, y_dev\n",
    "\n",
    "\n",
    "# Invoke the above function to get our data.\n",
    "X_train, y_train, X_val, y_val, X_test, y_test, X_dev, y_dev = get_CIFAR10_data()\n",
    "print('Train data shape: ', X_train.shape)\n",
    "print('Train labels shape: ', y_train.shape)\n",
    "print('Validation data shape: ', X_val.shape)\n",
    "print('Validation labels shape: ', y_val.shape)\n",
    "print('Test data shape: ', X_test.shape)\n",
    "print('Test labels shape: ', y_test.shape)\n",
    "print('dev data shape: ', X_dev.shape)\n",
    "print('dev labels shape: ', y_dev.shape)"
   ]
  },
  {
   "cell_type": "markdown",
   "metadata": {},
   "source": [
    "## Softmax Classifier\n",
    "\n",
    "Your code for this section will all be written inside **cs231n/classifiers/softmax.py**. \n"
   ]
  },
  {
   "cell_type": "code",
   "execution_count": 3,
   "metadata": {
    "collapsed": false
   },
   "outputs": [
    {
     "data": {
      "text/plain": [
       "9"
      ]
     },
     "execution_count": 3,
     "metadata": {},
     "output_type": "execute_result"
    }
   ],
   "source": [
    "np.max(y_train)"
   ]
  },
  {
   "cell_type": "code",
   "execution_count": 30,
   "metadata": {
    "collapsed": false
   },
   "outputs": [
    {
     "name": "stdout",
     "output_type": "stream",
     "text": [
      "loss: 2.353739\n",
      "sanity check: 2.302585\n"
     ]
    }
   ],
   "source": [
    "# First implement the naive softmax loss function with nested loops.\n",
    "# Open the file cs231n/classifiers/softmax.py and implement the\n",
    "# softmax_loss_naive function.\n",
    "\n",
    "from cs231n.classifiers.softmax import softmax_loss_naive\n",
    "import time\n",
    "\n",
    "# Generate a random softmax weight matrix and use it to compute the loss.\n",
    "W = np.random.randn(3073, 10) * 0.0001\n",
    "loss, grad = softmax_loss_naive(W, X_dev, y_dev, 0.0)\n",
    "\n",
    "# As a rough sanity check, our loss should be something close to -log(0.1).\n",
    "print('loss: %f' % loss)\n",
    "print('sanity check: %f' % (-np.log(0.1)))"
   ]
  },
  {
   "cell_type": "markdown",
   "metadata": {},
   "source": [
    "## Inline Question 1:\n",
    "Why do we expect our loss to be close to -log(0.1)? Explain briefly.**\n",
    "\n",
    "**Your answer:** *Fill this in*\n",
    "\n",
    "Because all the weights are randomly initialized, so all the class scores will be about the same initially. So the un-regularized softmax loss will be -log(1/num of classes)\n"
   ]
  },
  {
   "cell_type": "code",
   "execution_count": 44,
   "metadata": {
    "collapsed": false
   },
   "outputs": [
    {
     "name": "stdout",
     "output_type": "stream",
     "text": [
      "numerical: 2.960062 analytic: 2.960062, relative error: 1.678300e-08\n",
      "numerical: -0.465018 analytic: -0.465018, relative error: 9.835353e-08\n",
      "numerical: 0.445633 analytic: 0.445633, relative error: 2.057285e-09\n",
      "numerical: 1.964701 analytic: 1.964701, relative error: 2.572636e-08\n",
      "numerical: -0.519100 analytic: -0.519100, relative error: 1.687503e-07\n",
      "numerical: -2.752783 analytic: -2.752783, relative error: 2.279369e-08\n",
      "numerical: -1.148494 analytic: -1.148494, relative error: 5.402303e-08\n",
      "numerical: -0.599445 analytic: -0.599445, relative error: 8.798462e-09\n",
      "numerical: -2.702981 analytic: -2.702981, relative error: 3.917665e-08\n",
      "numerical: -1.834302 analytic: -1.834302, relative error: 1.026840e-08\n",
      "\n",
      "numerical: -1.625691 analytic: -1.625692, relative error: 1.462404e-08\n",
      "numerical: 1.439721 analytic: 1.439721, relative error: 5.404429e-08\n",
      "numerical: 1.016485 analytic: 1.016485, relative error: 4.098354e-08\n",
      "numerical: 0.784505 analytic: 0.784505, relative error: 3.458550e-08\n",
      "numerical: -0.916063 analytic: -0.916063, relative error: 2.520471e-08\n",
      "numerical: 0.333745 analytic: 0.333745, relative error: 6.673208e-08\n",
      "numerical: 2.008994 analytic: 2.008994, relative error: 1.104875e-08\n",
      "numerical: -0.249127 analytic: -0.249127, relative error: 3.756180e-07\n",
      "numerical: 0.737868 analytic: 0.737868, relative error: 1.110564e-07\n",
      "numerical: -1.078010 analytic: -1.078010, relative error: 1.597162e-09\n"
     ]
    }
   ],
   "source": [
    "# Complete the implementation of softmax_loss_naive and implement a (naive)\n",
    "# version of the gradient that uses nested loops.\n",
    "loss, grad = softmax_loss_naive(W, X_dev, y_dev, 0.0)\n",
    "\n",
    "# As we did for the SVM, use numeric gradient checking as a debugging tool.\n",
    "# The numeric gradient should be close to the analytic gradient.\n",
    "from cs231n.gradient_check import grad_check_sparse\n",
    "f = lambda w: softmax_loss_naive(w, X_dev, y_dev, 0.0)[0]\n",
    "grad_numerical_noreg = grad_check_sparse(f, W, grad, 10)\n",
    "print()\n",
    "# similar to SVM case, do another gradient check with regularization\n",
    "loss, grad = softmax_loss_naive(W, X_dev, y_dev, 1e2)\n",
    "f = lambda w: softmax_loss_naive(w, X_dev, y_dev, 1e2)[0]\n",
    "grad_numerical = grad_check_sparse(f, W, grad, 10)"
   ]
  },
  {
   "cell_type": "code",
   "execution_count": 48,
   "metadata": {
    "collapsed": false
   },
   "outputs": [
    {
     "name": "stdout",
     "output_type": "stream",
     "text": [
      "naive loss: 2.353739e+00 computed in 0.120882s\n",
      "vectorized loss: 2.353739e+00 computed in 0.013084s\n",
      "Loss difference: 0.000000\n",
      "Gradient difference: 0.000000\n"
     ]
    }
   ],
   "source": [
    "# Now that we have a naive implementation of the softmax loss function and its gradient,\n",
    "# implement a vectorized version in softmax_loss_vectorized.\n",
    "# The two versions should compute the same results, but the vectorized version should be\n",
    "# much faster.\n",
    "tic = time.time()\n",
    "loss_naive, grad_naive = softmax_loss_naive(W, X_dev, y_dev, 0.00001)\n",
    "toc = time.time()\n",
    "print('naive loss: %e computed in %fs' % (loss_naive, toc - tic))\n",
    "\n",
    "from cs231n.classifiers.softmax import softmax_loss_vectorized\n",
    "tic = time.time()\n",
    "loss_vectorized, grad_vectorized = softmax_loss_vectorized(W, X_dev, y_dev, 0.00001)\n",
    "toc = time.time()\n",
    "print('vectorized loss: %e computed in %fs' % (loss_vectorized, toc - tic))\n",
    "\n",
    "# As we did for the SVM, we use the Frobenius norm to compare the two versions\n",
    "# of the gradient.\n",
    "grad_difference = np.linalg.norm(grad_naive - grad_vectorized, ord='fro')\n",
    "print('Loss difference: %f' % np.abs(loss_naive - loss_vectorized))\n",
    "print('Gradient difference: %f' % grad_difference)"
   ]
  },
  {
   "cell_type": "code",
   "execution_count": 49,
   "metadata": {
    "collapsed": false
   },
   "outputs": [
    {
     "name": "stdout",
     "output_type": "stream",
     "text": [
      "[1e-07, 4.6415888336127784e-07, 2.154434690031883e-06, 9.999999999999997e-06]\n",
      "\n",
      "[100.0, 1000.0, 10000.0, 100000.0]\n"
     ]
    }
   ],
   "source": [
    "# Use the validation set to tune hyperparameters (regularization strength and\n",
    "# learning rate). You should experiment with different ranges for the learning\n",
    "# rates and regularization strengths; if you are careful you should be able to\n",
    "# get a classification accuracy of about 0.4 on the validation set.\n",
    "learning_rates = [1e-7, 1e-5] #[1e-7, 5e-7]\n",
    "regularization_strengths = [1e2, 1e5] #[5e4, 1e8]\n",
    "\n",
    "import math\n",
    "#math.log10(1e-5/1e-7)/math.log10(3)\n",
    "\n",
    "list_lr = []\n",
    "num_lr=3\n",
    "start_lr = learning_rates[0]\n",
    "stop_lr = learning_rates[1]\n",
    "base_lr = 10**(math.log10(stop_lr/start_lr)/num_lr)\n",
    "range_lr = range(0,num_lr+1,1)\n",
    "for i in range_lr:\n",
    "    list_lr.append(start_lr*base_lr**i)\n",
    "    #print(start_lr*base_lr**i)\n",
    "    \n",
    "list_reg = []\n",
    "num_reg=3\n",
    "start_reg = regularization_strengths[0]\n",
    "stop_reg = regularization_strengths[1]\n",
    "base_reg = 10**(math.log10(stop_reg/start_reg)/num_reg)\n",
    "range_reg = range(0,num_reg+1,1)\n",
    "for i in range_reg:\n",
    "    list_reg.append(start_reg*base_reg**i)\n",
    "    #print(start_reg*base_reg**i)\n",
    "\n",
    "print(list_lr)\n",
    "print()\n",
    "print(list_reg)"
   ]
  },
  {
   "cell_type": "code",
   "execution_count": 50,
   "metadata": {
    "collapsed": false
   },
   "outputs": [
    {
     "name": "stdout",
     "output_type": "stream",
     "text": [
      "lr 1.000000e-07 reg 1.000000e+02 train accuracy: 0.355776 val accuracy: 0.359000\n",
      "lr 1.000000e-07 reg 1.000000e+03 train accuracy: 0.355633 val accuracy: 0.358000\n",
      "lr 1.000000e-07 reg 1.000000e+04 train accuracy: 0.349306 val accuracy: 0.366000\n",
      "lr 1.000000e-07 reg 1.000000e+05 train accuracy: 0.307571 val accuracy: 0.327000\n",
      "lr 4.641589e-07 reg 1.000000e+02 train accuracy: 0.392755 val accuracy: 0.401000\n",
      "lr 4.641589e-07 reg 1.000000e+03 train accuracy: 0.392327 val accuracy: 0.399000\n",
      "lr 4.641589e-07 reg 1.000000e+04 train accuracy: 0.373898 val accuracy: 0.385000\n",
      "lr 4.641589e-07 reg 1.000000e+05 train accuracy: 0.300224 val accuracy: 0.306000\n",
      "lr 2.154435e-06 reg 1.000000e+02 train accuracy: 0.412714 val accuracy: 0.388000\n",
      "lr 2.154435e-06 reg 1.000000e+03 train accuracy: 0.393265 val accuracy: 0.395000\n",
      "lr 2.154435e-06 reg 1.000000e+04 train accuracy: 0.363041 val accuracy: 0.359000\n",
      "lr 2.154435e-06 reg 1.000000e+05 train accuracy: 0.263265 val accuracy: 0.275000\n",
      "lr 1.000000e-05 reg 1.000000e+02 train accuracy: 0.280939 val accuracy: 0.282000\n",
      "lr 1.000000e-05 reg 1.000000e+03 train accuracy: 0.265735 val accuracy: 0.272000\n",
      "lr 1.000000e-05 reg 1.000000e+04 train accuracy: 0.229510 val accuracy: 0.247000\n",
      "lr 1.000000e-05 reg 1.000000e+05 train accuracy: 0.070286 val accuracy: 0.056000\n",
      "best validation accuracy achieved during cross-validation: 0.401000\n"
     ]
    }
   ],
   "source": [
    "# Use the validation set to tune hyperparameters (regularization strength and\n",
    "# learning rate). You should experiment with different ranges for the learning\n",
    "# rates and regularization strengths; if you are careful you should be able to\n",
    "# get a classification accuracy of over 0.35 on the validation set.\n",
    "from cs231n.classifiers import Softmax\n",
    "results = {}\n",
    "best_val = -1\n",
    "best_softmax = None\n",
    "\n",
    "################################################################################\n",
    "for ii in list_lr:\n",
    "    for jj in list_reg:\n",
    "        smax = Softmax() #need to initialize this every time\n",
    "        loss_hist = smax.train(X_train, y_train, learning_rate=ii, reg=jj,\n",
    "                          num_iters=600, verbose=False)\n",
    "        y_train_pred = smax.predict(X_train)\n",
    "        y_train_acc = np.mean(y_train == y_train_pred)\n",
    "        y_val_pred = smax.predict(X_val)\n",
    "        y_val_acc = np.mean(y_val == y_val_pred)\n",
    "\n",
    "        results[(ii,jj)] = (y_train_acc,y_val_acc)\n",
    "    \n",
    "################################################################################\n",
    "#                              END OF YOUR CODE                                #\n",
    "################################################################################\n",
    "    \n",
    "# Print out results.\n",
    "best_hyper = [0,0] #initialize\n",
    "for lr, reg in sorted(results):\n",
    "    train_accuracy, val_accuracy = results[(lr, reg)]\n",
    "    if val_accuracy > best_val: \n",
    "        best_val=val_accuracy\n",
    "        best_hyper[0] = lr\n",
    "        best_hyper[1] = reg\n",
    "    print('lr %e reg %e train accuracy: %f val accuracy: %f' % (\n",
    "                lr, reg, train_accuracy, val_accuracy))\n",
    "    \n",
    "print('best validation accuracy achieved during cross-validation: %f' % best_val)"
   ]
  },
  {
   "cell_type": "code",
   "execution_count": 51,
   "metadata": {
    "collapsed": false
   },
   "outputs": [
    {
     "name": "stdout",
     "output_type": "stream",
     "text": [
      "[4.6415888336127784e-07, 100.0]\n",
      "iteration 0 / 1500: loss 2.310916\n",
      "iteration 100 / 1500: loss 1.909660\n",
      "iteration 200 / 1500: loss 1.867350\n",
      "iteration 300 / 1500: loss 1.872251\n",
      "iteration 400 / 1500: loss 1.689837\n",
      "iteration 500 / 1500: loss 1.752317\n",
      "iteration 600 / 1500: loss 1.789085\n",
      "iteration 700 / 1500: loss 1.812069\n",
      "iteration 800 / 1500: loss 1.816901\n",
      "iteration 900 / 1500: loss 1.762209\n",
      "iteration 1000 / 1500: loss 1.803230\n",
      "iteration 1100 / 1500: loss 1.741775\n",
      "iteration 1200 / 1500: loss 1.797553\n",
      "iteration 1300 / 1500: loss 1.682659\n",
      "iteration 1400 / 1500: loss 1.755338\n",
      "softmax on raw pixels final test set accuracy: 0.395000\n"
     ]
    }
   ],
   "source": [
    "#print(results)\n",
    "print(best_hyper)\n",
    "\n",
    "best_softmax = Softmax() #need to initialize this every time\n",
    "loss_hist = best_softmax.train(X_train, y_train, learning_rate=best_hyper[0], reg=best_hyper[1], \n",
    "                           num_iters=1500, verbose=True)\n",
    "# evaluate on test set\n",
    "# Evaluate the best softmax on test set\n",
    "y_test_pred = best_softmax.predict(X_test)\n",
    "test_accuracy = np.mean(y_test == y_test_pred)\n",
    "print('softmax on raw pixels final test set accuracy: %f' % (test_accuracy, ))"
   ]
  },
  {
   "cell_type": "code",
   "execution_count": 52,
   "metadata": {
    "collapsed": false
   },
   "outputs": [
    {
     "data": {
      "image/png": "[encoded data removed]",
      "text/plain": [
       "<matplotlib.figure.Figure at 0x7f54522c2a58>"
      ]
     },
     "metadata": {},
     "output_type": "display_data"
    }
   ],
   "source": [
    "# Visualize the learned weights for each class\n",
    "w = best_softmax.W[:-1,:] # strip out the bias\n",
    "w = w.reshape(32, 32, 3, 10)\n",
    "\n",
    "w_min, w_max = np.min(w), np.max(w)\n",
    "\n",
    "classes = ['plane', 'car', 'bird', 'cat', 'deer', 'dog', 'frog', 'horse', 'ship', 'truck']\n",
    "for i in range(10):\n",
    "  plt.subplot(2, 5, i + 1)\n",
    "  \n",
    "  # Rescale the weights to be between 0 and 255\n",
    "  wimg = 255.0 * (w[:, :, :, i].squeeze() - w_min) / (w_max - w_min)\n",
    "  plt.imshow(wimg.astype('uint8'))\n",
    "  plt.axis('off')\n",
    "  plt.title(classes[i])"
   ]
  },
  {
   "cell_type": "code",
   "execution_count": null,
   "metadata": {
    "collapsed": true
   },
   "outputs": [],
   "source": []
  }
 ],
 "metadata": {
  "anaconda-cloud": {},
  "kernelspec": {
   "display_name": "Python [conda env:AmitSDCND]",
   "language": "python",
   "name": "conda-env-AmitSDCND-py"
  },
  "language_info": {
   "codemirror_mode": {
    "name": "ipython",
    "version": 3
   },
   "file_extension": ".py",
   "mimetype": "text/x-python",
   "name": "python",
   "nbconvert_exporter": "python",
   "pygments_lexer": "ipython3",
   "version": "3.5.2"
  }
 },
 "nbformat": 4,
 "nbformat_minor": 0
}
